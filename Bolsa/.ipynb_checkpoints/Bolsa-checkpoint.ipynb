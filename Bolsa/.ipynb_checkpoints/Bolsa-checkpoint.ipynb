{
 "cells": [
  {
   "cell_type": "markdown",
   "metadata": {},
   "source": [
    "# Ejercicio: Análisis de datos bursátiles\n",
    "**Autor**: José A. Troyano.      **Revisores**: Fermín Cruz, Carlos G. Vallejo, Mariano González.     **Última modificación:** 03/12/2018"
   ]
  },
  {
   "cell_type": "markdown",
   "metadata": {},
   "source": [
    "El análisis bursátil tiene como objetivo el estudio del comportamiento de los mercados, con idea de obtener información que ayude a la toma de decisiones de inversión. Cuando se usan técnicas estadísticas y herramientas informáticas para realizar este análisis se suele hablar de _quantitative analysis_, y a los profesionales que se especializan en este tipo de técnicas y herramientas se les llama <a href=\"https://en.wikipedia.org/wiki/Quantitative_analyst\">Quants</a>. En este ejercicio haremos una pequeña incursión en este apasionante mundo, mediante un análisis simple sobre datos de cotizaciones de empresas españolas. \n",
    "\n",
    "Para implementar algunas de las funciones que nos hacen falta, haremos uso de utilidades disponibles en la librería estándar de Python y en el paquete <code>matplotlib</code>. Para ello, antes de empezar, deberemos importar los siguientes elementos:"
   ]
  },
  {
   "cell_type": "code",
   "execution_count": null,
   "metadata": {
    "collapsed": true
   },
   "outputs": [],
   "source": [
    "from math import sqrt\n",
    "from matplotlib import pyplot as plt\n",
    "import statistics"
   ]
  },
  {
   "cell_type": "markdown",
   "metadata": {},
   "source": [
    "## 1. Carga de datos"
   ]
  },
  {
   "cell_type": "markdown",
   "metadata": {},
   "source": [
    "En este ejercicio usaremos datos obtenidos de <a href=\"https://es.finance.yahoo.com/\">Yahoo! Finance</a>. En concreto, dispondremos de las cotizaciones durante las sesiones del año 2016 de una serie de empresas del <a href=\"https://es.wikipedia.org/wiki/IBEX_35\">IBEX 35</a>. Para identificar a las empresas usaremos las mismas abreviaturas empleadas en el índice IBEX 35. Estos son los nombres de las empresas para las que tenemos datos:\n",
    "\n",
    "<pre>\n",
    "        bancos = ['BBVA', 'CABK', 'BKT', 'SAB', 'SAN', 'POP']\n",
    "        constructoras = ['ACS', 'FER', 'FCC']\n",
    "        energia = ['ELE', 'REE', 'ENG', 'GAS', 'IBE']\n",
    "</pre>\n",
    "\n",
    "De toda la información proporcionada por la API de _Yahoo Finance!_ solo se ha seleccionado el precio de cierre diario de cada empresa. Los datos se encuentran en la carpeta <code>datos</code>, dentro de la cual hay un fichero de texto para cada empresa. En esos ficheros, cada línea se corresponde con el valor de cierre de un día. Los datos están ordenados cronológicamente, pero no se almacena ninguna información sobre la fecha. Los nombres de estos ficheros se componen con la abreviatura de la empresa, seguida del sufijo <code>'MC.txt'</code>. Estas serían, por ejemplo, las primeras líneas del fichero <code>BBVA.MC.txt</code> correspondiente a la empresa BBVA:\n",
    "\n",
    "<pre>\n",
    "        5.96213\n",
    "        5.83916\n",
    "        5.878080000000001\n",
    "        5.75245\n",
    "        5.6790199999999995\n",
    "        5.55074\n",
    "        5.61257\n",
    "        5.63436\n",
    "        5.63526\n",
    "        5.57354\n",
    "</pre>\n",
    "\n",
    "La siguiente función será la encargada de leer el fichero de una empresa, y construir a partir de él una estructura de datos en memoria. Usaremos una lista para almacenar todas las cotizaciones diarias de una empresa."
   ]
  },
  {
   "cell_type": "code",
   "execution_count": null,
   "metadata": {
    "collapsed": true
   },
   "outputs": [],
   "source": [
    "def lee_precios_empresa(empresa, ruta='./data/', extension='.MC.txt'):\n",
    "    ''' Lee el fichero de una empresa y devuelve una lista de precios\n",
    "    \n",
    "    ENTRADA: \n",
    "       - empresa: nombre de la empresa de la que se quieren leer los datos -> str\n",
    "       - ruta: carpeta donde se encuentra el fichero -> str\n",
    "       - extension: con la que se completa el nombre del fichero -> str\n",
    "    SALIDA: \n",
    "       - lista de precios -> [float] \n",
    "\n",
    "    En el fichero de entrada se encuentran las cotizaciones de una\n",
    "    empresa durante un año (un número por línea correspondiente al valor de\n",
    "    cierre de un día).\n",
    "    La función toma como entrada el nombre de la empresa, la ruta donde se\n",
    "    encuentra el fichero y la extensión que hay que añadir al nombre de la\n",
    "    empresa para componer el nombre del fichero.\n",
    "    Produce como salida una lista de números reales. Es importante tener en\n",
    "    cuenta que hay que transformar lo que se lee del fichero (cadenas\n",
    "    de caracteres) en valores numéricos.\n",
    "    '''\n",
    "    pass"
   ]
  },
  {
   "cell_type": "code",
   "execution_count": null,
   "metadata": {
    "collapsed": true
   },
   "outputs": [],
   "source": [
    "# Test de la función lee_precios_empresa\n",
    "bbva_precios = lee_precios_empresa('BBVA')\n",
    "\n",
    "print(bbva_precios[:20])"
   ]
  },
  {
   "cell_type": "markdown",
   "metadata": {},
   "source": [
    "Apoyándonos en la función anterior, implementaremos la función <code>lee_precios_empresas</code> que cargará en memoria los datos correspondientes a varias empresas. Crearemos un diccionario de listas para almacenar las cotizaciones de varias empresas."
   ]
  },
  {
   "cell_type": "code",
   "execution_count": null,
   "metadata": {
    "collapsed": true
   },
   "outputs": [],
   "source": [
    "def lee_precios_empresas(empresas, ruta='./data/', extension='.MC.txt'):\n",
    "    ''' Carga los ficheros de precios de varias empresas en un diccionario\n",
    "    \n",
    "    ENTRADA: \n",
    "       - empresas: nombres de la empresas de las que se quieren leer los datos -> [str]\n",
    "       - ruta: carpeta donde se encuentran los ficheros -> str\n",
    "       - extension: con la que se completan los nombres de los ficheros -> str\n",
    "    SALIDA: \n",
    "       - diccionario de precios -> {str: [float]} \n",
    "\n",
    "    Recibe una lista de nombres de empresas, la ruta donde se encuentran\n",
    "    los ficheros y la extensión que hay que añadir al nombre de las empresas\n",
    "    para componer los nombres de los ficheros.\n",
    "    Se apoya en la función lee_precios para leer la información de una empresa\n",
    "    y devuelve como salida un diccionario de series de precios en el que se\n",
    "    usan como claves los nombres de las empresas\n",
    "    '''\n",
    "    pass"
   ]
  },
  {
   "cell_type": "code",
   "execution_count": null,
   "metadata": {
    "collapsed": true
   },
   "outputs": [],
   "source": [
    "# Test de la función lee_precios_empresas\n",
    "empresas = ['BBVA', 'SAN', 'ACS', 'GAS']\n",
    "\n",
    "precios = lee_precios_empresas(empresas)\n",
    "for e in precios:\n",
    "    print('{}'.format(e), precios[e][:5]) "
   ]
  },
  {
   "cell_type": "markdown",
   "metadata": {},
   "source": [
    "## 2. Generación de gráficas"
   ]
  },
  {
   "cell_type": "markdown",
   "metadata": {},
   "source": [
    "Una de las mayores ventajas del lenguaje Python es que, con muy pocas líneas de código, se pueden escribir programas que directamente nos proporcionan resultados de utilidad. Esto se debe fundamentalmente a dos razones:\n",
    "- El lenguaje en sí es muy expresivo y solo te obliga a escribir _lo justo_\n",
    "- Hay muchas librerías desarrolladas por terceros que resuelven infinidad de problemas interesantes\n",
    "\n",
    "En esta sección veremos la segunda de estas razones _en acción_ a través de la librería <a href=\"https://matplotlib.org/\">matplotlib</a>, que es el estándar _de facto_ para generar gráficas en Python. <code>matplotlib</code> es una librería muy extensa, completa y compleja (por la cantidad de alternativas que ofrece). Pero, a pesar de esa complejidad, es muy fácil obtener gráficos simples e informativos como muestra la siguiente función: "
   ]
  },
  {
   "cell_type": "code",
   "execution_count": null,
   "metadata": {
    "collapsed": true
   },
   "outputs": [],
   "source": [
    "def traza_curva(serie, label='Valor', color='blue'):\n",
    "    ''' Traza una curva a partir de una serie de puntos\n",
    "    \n",
    "    ENTRADA: \n",
    "       - serie: lista de valores numéricos -> [float]\n",
    "       - label: etiqueta que se mostrará en la gráfica -> str\n",
    "       - color: que se usará para trazar la curva -> str\n",
    "    SALIDA EN PANTALLA:\n",
    "       - gráfica con la evolución de la serie a lo largo del tiempo\n",
    "\n",
    "    Utiliza el método plot del paquete matplotlib. Usaremos dos de los\n",
    "    parámetros más importantes del método plot para controlar un poco el\n",
    "    estilo de la gráfica:\n",
    "        - label: etiqueta que se le asocia a la curva\n",
    "        - color: color del trazo\n",
    "    El método legend del objeto plt nos permite visualizar la leyenda con\n",
    "    las etiquetas.\n",
    "    '''\n",
    "    plt.plot(serie, label=label, color=color)\n",
    "    plt.legend()\n",
    "    plt.show()"
   ]
  },
  {
   "cell_type": "code",
   "execution_count": null,
   "metadata": {
    "collapsed": true
   },
   "outputs": [],
   "source": [
    "# Test de la función traza_curva\n",
    "bbva_precios = lee_precios_empresa('BBVA')\n",
    "\n",
    "traza_curva(bbva_precios, label='BBVA')\n",
    "traza_curva(bbva_precios, color='black')"
   ]
  },
  {
   "cell_type": "markdown",
   "metadata": {},
   "source": [
    "Con lo poco que conocemos de <code>matplotlib</code> podemos generar fácilmente una gráfica que nos permita comparar visualmente los precios de varias empresas. Lo haremos con la función <code>traza_curvas</code> que tomará como entrada un diccionario de series y una lista con el color de trazo que utilizaremos para cada serie:"
   ]
  },
  {
   "cell_type": "code",
   "execution_count": null,
   "metadata": {
    "collapsed": true
   },
   "outputs": [],
   "source": [
    "def traza_curvas(series, colores):\n",
    "    ''' Traza varias curvas para varias series de puntos\n",
    "    \n",
    "    ENTRADA: \n",
    "       - series: diccionario con las cotizaciones de varias empresas -> {str: [float]}\n",
    "       - colores: lista de colores, uno por cada empresa -> [str]\n",
    "    SALIDA EN PANTALLA:\n",
    "       - gráfica con la evolución de todos los valores lo largo del tiempo\n",
    "   \n",
    "    Para resolver este ejercicio seguiremos los siguientes pasos:\n",
    "    - Calcular una lista con los nombres de las series (las claves del diccionario)\n",
    "    - Calcular una lista paralela a la anterior cuyos elementos serán las series (los\n",
    "      valores del diccionario)\n",
    "    - Recorrer en paralelo las dos listas anteriores, junto con la lista de colores,\n",
    "      para generar los distintos trazos de la gráfica\n",
    "    \n",
    "    NOTA: Puede ser de utilidad la función 'built-in' zip\n",
    "    '''\n",
    "    pass"
   ]
  },
  {
   "cell_type": "code",
   "execution_count": null,
   "metadata": {
    "collapsed": true
   },
   "outputs": [],
   "source": [
    "# Test de la función traza_curvas\n",
    "empresas = ['BBVA', 'SAN', 'ACS', 'GAS']\n",
    "precios = lee_precios_empresas(empresas)\n",
    "colores = ['blue', 'red', 'orange', 'grey']\n",
    "\n",
    "traza_curvas(precios, colores)"
   ]
  },
  {
   "cell_type": "markdown",
   "metadata": {},
   "source": [
    "## 3. Dos indicadores simples"
   ]
  },
  {
   "cell_type": "markdown",
   "metadata": {},
   "source": [
    "Los indicadores son herramientas matemáticas que dan una visión objetiva de las cotizaciones, con idea de ayudar a comprender el estado de las mismas y apoyarse en ellos a la hora de tomar decisiones de mercado. Lo ideal sería disponer de _indicadores adelantados_, que _den señales_ del mercado que nos permitan anticiparnos a su movimiento. En la práctica esta _utopía_ está muy lejos de ser alcanzada en el ámbito bursátil.\n",
    "\n",
    "Los indicadores se pueden ver como funciones que toman series de valores, y producen como salida una información más resumida que es más fácil de interpretar por las personas. En esta sección implementaremos dos funciones que implican trasformaciones simples de las series de datos de entrada."
   ]
  },
  {
   "cell_type": "markdown",
   "metadata": {
    "collapsed": true
   },
   "source": [
    "### 3.1. Cálculo de incrementos diarios"
   ]
  },
  {
   "cell_type": "markdown",
   "metadata": {},
   "source": [
    "Estrictamente hablando no vamos a calcular un indicador, sino que más bien se trata de una normalización de datos. La idea es disponer de una representación de las series que no dependa del rango en el que se muevan los precios de cada empresa. Si nos fijamos, por ejemplo, en la gráfica que muestra los precios de <code>['BBVA', 'SAN', 'ACS', 'GAS']</code> observamos que <code>'BBVA'</code> se mueve en el entorno de 5 euros, mientras que <code>'ACS'</code> lo hace en el de 25 euros. Con la trasformación que vamos a implementar, los cambios diarios serán expresados en tantos por uno, lo que permitirá comparar la evolución de valores que oscilan en rangos distintos: "
   ]
  },
  {
   "cell_type": "code",
   "execution_count": null,
   "metadata": {
    "collapsed": true
   },
   "outputs": [],
   "source": [
    "def calcula_incrementos(serie):\n",
    "    ''' Calcula incrementos porcentuales (tantos por 1) a partir de una serie\n",
    "    \n",
    "    ENTRADA: \n",
    "       - serie: lista de valores numéricos -> [float]\n",
    "    SALIDA: \n",
    "       - lista de incrementos -> [float] \n",
    "\n",
    "    Se calcula el incremento de la posición \"i\" con respecto a la posición\n",
    "    \"i-1\". La lista de salida tendrá, por tanto, una posición menos. Los\n",
    "    valores resultantes se encuentran centrados en el 0 y estarán normalizados\n",
    "    en cuanto a la magnitud. Por ejemplo un valor de 0.05 implica una subida\n",
    "    diaria del 5%, y una bajada del 1% se corresponderá con -0.01.\n",
    "    '''\n",
    "    pass"
   ]
  },
  {
   "cell_type": "code",
   "execution_count": null,
   "metadata": {
    "collapsed": true
   },
   "outputs": [],
   "source": [
    "# Test de la función calcula incrementos\n",
    "empresas = ['BBVA', 'SAN', 'ACS', 'GAS']\n",
    "precios = lee_precios_empresas(empresas)\n",
    "colores = ['blue', 'red', 'orange', 'grey']\n",
    "\n",
    "incrementos = {e: calcula_incrementos(precios[e]) for e in empresas}\n",
    "traza_curvas(incrementos, colores)"
   ]
  },
  {
   "cell_type": "markdown",
   "metadata": {},
   "source": [
    "Visualmente, esta última gráfica es bastante confusa. De hecho, salvo el pico de bajada del 20% de 'SAN', es bastante difícil interpretarla. Pero, como veremos más adelante, esta trasformación destila una información útil. Nos permitirá, por ejemplo, determinar el grado de parecido entre la evolución de dos empresas."
   ]
  },
  {
   "cell_type": "markdown",
   "metadata": {},
   "source": [
    "### 3.2. Cálculo de la media móvil"
   ]
  },
  {
   "cell_type": "markdown",
   "metadata": {},
   "source": [
    "La media móvil es un indicador muy simple y, a pesar de ello, muy utilizado en el análisis bursátil. Sirve para _eliminar ruido_, filtrando los movimientos puntuales y analizando los datos con una perspectiva temporal más amplia.\n",
    "\n",
    "La media móvil simple, en un determinado momento, se calcula mediante la media aritmética de los $n$ datos anteriores de la serie. Si $n$ es muy grande, la influencia de los datos antiguos será mayor. Por su parte, valores bajos de $n$ hacen que en el peso del indicador recaiga solo la historia reciente.\n",
    "\n",
    "A pesar de ser un indicador muy simple, hay estrategias relativamente efectivas que se apoyan en la detección de señales de compra y venta en función de los puntos de corte de medias con distintos valores de $n$."
   ]
  },
  {
   "cell_type": "code",
   "execution_count": null,
   "metadata": {
    "collapsed": true
   },
   "outputs": [],
   "source": [
    "def calcula_media_movil(serie, ventana=5):\n",
    "    ''' Calcula la media móvil de una serie\n",
    "    \n",
    "    ENTRADA: \n",
    "       - serie: lista de valores numéricos -> [float]\n",
    "       - ventana: número de valores que se usarán para calcular la media móvil -> int\n",
    "    SALIDA: \n",
    "       - lista de medias móviles -> [float] \n",
    "\n",
    "    La ventana indica el número de valores de la serie que se utilizan\n",
    "    para calcular la media. Por defecto se usa una ventana de 5. El valor\n",
    "    de la posición i es la media de los valores comprendidos en las posiciones\n",
    "    [i-ventana, i] de la serie.\n",
    "    El primer punto de la serie para el que se puede calcular la media móvil\n",
    "    será \"serie[ventana-1]\". A los puntos anteriores se les asignará como valor\n",
    "    de media móvil la correspondiente a este primer punto.\n",
    "    '''\n",
    "    pass"
   ]
  },
  {
   "cell_type": "code",
   "execution_count": null,
   "metadata": {
    "collapsed": true
   },
   "outputs": [],
   "source": [
    "# Test de la función media_movil\n",
    "bbva_precios = lee_precios_empresa('BBVA')\n",
    "empresas = ['BBVA', 'SAN', 'ACS', 'GAS']\n",
    "precios = lee_precios_empresas(empresas)\n",
    "incrementos = {e: calcula_incrementos(precios[e]) for e in empresas}\n",
    "colores = ['blue', 'red', 'orange', 'grey']\n",
    "\n",
    "bbva_movil = calcula_media_movil(bbva_precios, ventana=10)\n",
    "precios_media = {'Precios': bbva_precios, 'Media': bbva_movil}\n",
    "traza_curvas(precios_media, ['blue', 'red'])\n",
    "medias = {e: calcula_media_movil(incrementos[e], ventana=10) for e in empresas}\n",
    "traza_curvas(medias, colores)"
   ]
  },
  {
   "cell_type": "markdown",
   "metadata": {},
   "source": [
    "En la primera de las gráficas, observamos la utilidad de la media móvil a la hora de _limpiar de ruidos_ una serie de precios. La curva de la media es mucho más suave, lo que permite destacar de forma más nítida la tendencia de precios de BBVA.\n",
    "\n",
    "En la segunda gráfica también queda patente el beneficio de la media móvil. Si la comparamos con la gráfica en la que se solapaban directamente los incrementos de las cuatro empresas, en esta nueva visualización van apareciendo con más claridad puntos potencialmente significativos."
   ]
  },
  {
   "cell_type": "markdown",
   "metadata": {},
   "source": [
    "## 4. Análisis comparativo"
   ]
  },
  {
   "cell_type": "markdown",
   "metadata": {},
   "source": [
    "En este punto, vamos a aprovechar parte de lo que llevamos implementado hasta ahora para responder a una pregunta que nos puede dar una información de utilidad a la hora de operar en bolsa:\n",
    "\n",
    "<center>_¿Cuál es el grado de parecido entre dos empresas?_</center>\n",
    "\n",
    "Podemos utilizar este dato, por ejemplo, para diversificar carteras. Si tenemos valores de empresas muy parecidas corremos el riesgo de que todas caigan al mismo tiempo si hay un desplome en el sector en el que operan. En cambio, si tenemos una cartera diversificada puede que ganemos menos en tiempos de subida, pero es más probable que se puedan compensar pérdidas de algunas empresas (en tiempos de bajadas) si otras aguantan la cotización porque tienen un comportamiento potencialmente distinto.\n",
    "\n",
    "En esta sección utilizaremos la _similitud del coseno_ sobre los incrementos de precios para medir de forma objetiva el grado de parecido entre dos series en el _pasado_. En bolsa es importante resaltar lo de _el pasado_ porque, como reza una famosa frase en el mundo bursátil: \"beneficios pasados no aseguran beneficios futuros\". "
   ]
  },
  {
   "cell_type": "markdown",
   "metadata": {},
   "source": [
    "### 4.1. Similitud del coseno"
   ]
  },
  {
   "cell_type": "markdown",
   "metadata": {},
   "source": [
    "La <a href=\"https://es.wikipedia.org/wiki/Similitud_coseno\">similitud del coseno</a> es una medida de la similitud entre dos vectores que se calcula a partir del coseno del ángulo comprendido entre ellos. Esta función vale $1$ si ambos vectores tienen la misma dirección, $0$ si son ortogonales y $-1$ si son opuestos.\n",
    "\n",
    "Si usamos esta medida sobre series de valores, el mayor parecido entre dos series vendría dado por una similitud de $1$, mientras que un valor de $-1$ se correspondería con el grado de similitud de dos series completamente antagónicas.\n",
    "\n",
    "El cálculo de la similitud del coseno es bastante simple, y se basa en el producto escalar entre los vectores:\n",
    "\n",
    "$$\n",
    "similitud(A,B) = \\frac{\\sum a_ib_i}{\\sqrt{\\sum a_i^2}\\sqrt{\\sum b_i^2}}\n",
    "$$"
   ]
  },
  {
   "cell_type": "code",
   "execution_count": null,
   "metadata": {
    "collapsed": true
   },
   "outputs": [],
   "source": [
    "def similitud_coseno(serie_a, serie_b):\n",
    "    ''' Similitud del coseno de dos series de valores\n",
    "    \n",
    "    ENTRADA: \n",
    "       - serie_a: primera serie de valores numéricos -> [float]\n",
    "       - serie_b: segunda serie de valores numéricos -> [float]\n",
    "    SALIDA: \n",
    "       - similitud del coseno entre ambas series -> float \n",
    "\n",
    "    Dadas dos series de valores:\n",
    "        [a1, a2, ..., an]\n",
    "        [bi, b2, ..., bn]\n",
    "    Para calcular la similitud del coseno es necesario, en primer lugar,\n",
    "    calcular los siguientes sumandos:\n",
    "        aa = a1 * a1 + a2 * a2 + ... + an * an\n",
    "        bb = b1 * b1 + b2 * b2 + ... + bn * bn\n",
    "        ab = a1 * b1 + a2 * b2 + ... + an * bn\n",
    "    A partir de ellos, la similitud del coseno entre las dos series se \n",
    "    calcula con la siguiente expresión:\n",
    "        ab / (sqrt(aa) * sqrt(bb))\n",
    "    '''\n",
    "    pass"
   ]
  },
  {
   "cell_type": "code",
   "execution_count": null,
   "metadata": {
    "collapsed": true
   },
   "outputs": [],
   "source": [
    "# Test de la función similitud_coseno\n",
    "print(similitud_coseno([1, 2, 3], [2, 4, 6]))       # Dos vectores paralelos\n",
    "print(similitud_coseno([1, 2, 3], [-2, -4, -6]))    # Dos vectores opuestos\n",
    "print(similitud_coseno([1, 0, 1], [0, 1, 0]))       # Dos vectores ortogonales\n",
    "print(similitud_coseno([1, 2, 3], [1.7, 4.3, 5.8])) # Dos vectores parecidos"
   ]
  },
  {
   "cell_type": "markdown",
   "metadata": {},
   "source": [
    "### 4.2. Cálculo de la empresa más parecida"
   ]
  },
  {
   "cell_type": "markdown",
   "metadata": {},
   "source": [
    "Ya tenemos todos los elementos para calcular el grado de similitud del comportamiento en bolsa de dos empresas. Lo haremos a través de la función <code>busca_empresa_mas_parecida</code> que toma como entrada el nombre de una empresa y una lista de empresas con la que compararla, y produce como salida el nombre de la empresa más parecida de la lista y un diccionario con las similitudes con cada empresa:"
   ]
  },
  {
   "cell_type": "code",
   "execution_count": null,
   "metadata": {
    "collapsed": true
   },
   "outputs": [],
   "source": [
    "def busca_empresa_mas_parecida(empresa, empresas):\n",
    "    ''' Empresa más parecida a otra de una lista de empresas\n",
    "    \n",
    "    ENTRADA: \n",
    "       - empresa: nombre de la empresa de la que queremos buscar parecidas -> str\n",
    "       - empresas: nombres de las empresas con las que comparar -> [str]\n",
    "    SALIDA: \n",
    "       - empresa más parecida y diccionario de similitudes -> (str, {str: float}) \n",
    "\n",
    "    Toma como entrada el nombre de una empresa y un diccionario de cotizaciones.\n",
    "    Produce como salida una tupla con dos informaciones:\n",
    "        - El nombre de la empresa más parecida\n",
    "        - Un diccionario con las similitudes con cada empresa\n",
    "    Se usa la similitud del coseno sobre los incrementos para determinar cuál\n",
    "    es la empresa con cotizaciones más parecidas.\n",
    "    \n",
    "    Para resolver este ejercicio seguiremos los siguientes pasos:\n",
    "    - Cargar las cotizaciones de la 'empresa' en la lista 'precios_empresa' y\n",
    "      calcular los incrementos en la lista 'inc_empresa'\n",
    "    - Cargar las cotizaciones de la lista 'empresas' en el diccionario\n",
    "      'precios_empresas' y calcular los correspondientes incrementos en\n",
    "      el diccionario 'inc_empresas'\n",
    "    - Calcular las similitudes de 'empresa' con cada una de las 'empresas'\n",
    "      y guardarlas en el diccionario 'similitudes'\n",
    "    - Calcular el nombre de la empresa más parecida con la siguiente instrucción:\n",
    "            \n",
    "            mas_parecida = max(similitudes, key=similitudes.get)\n",
    "    '''\n",
    "    pass"
   ]
  },
  {
   "cell_type": "code",
   "execution_count": null,
   "metadata": {
    "collapsed": true
   },
   "outputs": [],
   "source": [
    "# Test de la función empresa_mas_parecida\n",
    "bancos_menos_bbva = ['CABK', 'BKT', 'SAB', 'SAN', 'POP']\n",
    "constructoras = ['ACS', 'FER', 'FCC']\n",
    "energia = ['ELE', 'REE', 'ENG', 'GAS', 'IBE']\n",
    "empresas = bancos_menos_bbva + constructoras + energia\n",
    "\n",
    "(empresa, similitudes) = busca_empresa_mas_parecida('BBVA', empresas)\n",
    "print('La empresa más parecida a BBVA es ' + empresa)\n",
    "for e in similitudes.keys():\n",
    "    print(\"{:5}  {:5.3f}\".format(e, similitudes[e]))"
   ]
  }
 ],
 "metadata": {
  "anaconda-cloud": {},
  "kernelspec": {
   "display_name": "Python 3",
   "language": "python",
   "name": "python3"
  },
  "language_info": {
   "codemirror_mode": {
    "name": "ipython",
    "version": 3
   },
   "file_extension": ".py",
   "mimetype": "text/x-python",
   "name": "python",
   "nbconvert_exporter": "python",
   "pygments_lexer": "ipython3",
   "version": "3.7.0"
  }
 },
 "nbformat": 4,
 "nbformat_minor": 2
}
