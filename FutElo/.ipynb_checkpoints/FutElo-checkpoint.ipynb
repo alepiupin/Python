{
 "cells": [
  {
   "cell_type": "markdown",
   "metadata": {},
   "source": [
    "# Ejercicio: Ranking Elo aplicado a resultados de fútbol\n",
    "**Autor**: José A. Troyano.      **Revisor**: Fermín Cruz, Beatriz Pontes, Mariano González, Toñi Reina.     **Última modificación:** 26/11/2018"
   ]
  },
  {
   "cell_type": "markdown",
   "metadata": {},
   "source": [
    "El sistema de puntuación Elo es un método estadístico para calcular una clasificación entre competidores que no necesariamente se han enfrentado todos entre sí. Empezó a usarse en ajedrez, aunque su uso se está generalizando a otras competiciones. Fue desarrollado por el físico estadounidense de origen húngaro Árpád Élő (1903-1992), y a él debe su nombre. \n",
    "\n",
    "Tradicionalmente el ranking Elo ha sido sinónimo de la clasificación mundial de ajedrez (<a href=\"https://es.wikipedia.org/wiki/Ranking_FIDE\">ranking FIDE</a>) y más recientemente otras federaciones deportivas han adoptado un sistema basado en Elo para elaborar sus rankings. Por ejemplo, la FIFA usa Elo para elaborar el ranking de selecciones de <a href=\"https://es.wikipedia.org/wiki/Clasificaci%C3%B3n_mundial_de_la_FIFA\">fútbol femenino</a>, aunque para el masculino sigue usando un método más convencional basado principalmente en el número de partidos ganados recientemente.\n",
    "\n",
    "En este ejercicio vamos a utilizar los resultados de partidos de fútbol de primera y segunda división españolas para calcular a partir de ellos un ranking de equipos basado en el sistema Elo. Los datos utilizados han sido recuperados de la web de resultados históricos de <a href=\"http://www.laliga.es/estadisticas-historicas\">LaLiga</a> y han sido adaptados para representarlos en un formato <a href=\"https://es.wikipedia.org/wiki/Valores_separados_por_comas\">CSV</a> que resulta muy fácil de manejar desde Python. "
   ]
  },
  {
   "cell_type": "markdown",
   "metadata": {},
   "source": [
    "## 1. Carga de datos"
   ]
  },
  {
   "cell_type": "markdown",
   "metadata": {},
   "source": [
    "Se dispone de los resultados de primera y segunda división desde la temporada 00-01 hasta la temporada 15-16. Los datos están organizados en dos carpetas (<code>Primera</code> y <code>Segunda</code>), y dentro de cada una de ellas hay un fichero <code>CSV</code> para cada temporada. Cada línea de estos ficheros se corresponde con un partido, y en ella se incluyen cinco datos:\n",
    "\n",
    "- Fecha del partido\n",
    "- Equipo que juega en casa\n",
    "- Goles del equipo de casa\n",
    "- Equipo visitante\n",
    "- Goles del equipo visitante\n",
    "\n",
    "Estan serían, por ejemplo, las primeras líneas del fichero de la temporada 15-16 en primera división:\n",
    "\n",
    "<pre>\n",
    "        21/08/2015,Málaga CF,0,Sevilla FC,0\n",
    "        21/08/2015,Atlético de Madrid,1,UD Las Palmas,0\n",
    "        21/08/2015,RC Deportivo,0,Real Sociedad,0\n",
    "        21/08/2015,RCD Espanyol,1,Getafe CF,0\n",
    "        21/08/2015,Rayo Vallecano,0,Valencia CF,0\n",
    "        21/08/2015,Athletic Club,0,FC Barcelona,1\n",
    "        21/08/2015,Real Betis,1,Villarreal CF,1\n",
    "</pre>\n",
    "\n",
    "Los principales aspectos que tendremos que resolver a la hora de procesar estos datos de entrada serán: separar adecuadamente los campos mediante las comas, interpretar el formato de las fechas para extraer el día, el mes y el año, y leer todos los ficheros de una carpeta para obtener una lista con todos los partidos de una competición.\n",
    "\n",
    "Para resolver estos problemas haremos uso de algunas utilidades disponibles en la librería estándar de Python. En concreto, antes de empezar, deberemos importar los siguientes elementos:"
   ]
  },
  {
   "cell_type": "code",
   "execution_count": null,
   "metadata": {
    "collapsed": true
   },
   "outputs": [],
   "source": [
    "from os import listdir\n",
    "import csv\n",
    "from collections import namedtuple\n",
    "from datetime import datetime"
   ]
  },
  {
   "cell_type": "markdown",
   "metadata": {},
   "source": [
    "### 1.1. Funciones de lectura de datos"
   ]
  },
  {
   "cell_type": "markdown",
   "metadata": {},
   "source": [
    "La siguiente funnción será la encargada de leer un fichero correspondiente a una temporada, y construir a partir de él una estructura de datos en memoria. Nos apoyaremos en un tipo <code>namedtuple</code> llamado <code>Partido</code> para estructurar la información de cada partido."
   ]
  },
  {
   "cell_type": "code",
   "execution_count": null,
   "metadata": {
    "collapsed": true
   },
   "outputs": [],
   "source": [
    "Partido = namedtuple('Partido', 'fecha local goles_local visitante goles_visitante')\n",
    "\n",
    "def lee_temporada(fichero):\n",
    "    ''' Lee el fichero de una temporada y devuelve una lista de partidos\n",
    "    \n",
    "    ENTRADA: \n",
    "       - fichero: nombre del fichero del que se quieren leer los datos -> str\n",
    "    SALIDA: \n",
    "       - lista de partidos -> [Partido(datetime.date, str, int, str, int)] \n",
    "\n",
    "    Cada partido se representa con una tupla con los siguientes valores:\n",
    "    - fecha\n",
    "    - equipo local\n",
    "    - goles equipo local\n",
    "    - equipo visitante\n",
    "    - goles equipo visitante\n",
    "    Usaremos el módulo csv de la librería estándar de Python para leer los\n",
    "    ficheros de entrada.\n",
    "    En el caso de las fechas, nos hará falta convertir una cadena de caracteres\n",
    "    en una fecha (objeto date del módulo datetime). Para ello utilizaremoos el \n",
    "    método strptime del módulo datetime de la librería estándar de Python.\n",
    "    En concreto, para crear un objeto date a partir de una cadena_fecha con el\n",
    "    formato que tenemos en nuestros ficheros de datos, podemos usar la siguiente\n",
    "    instrucción:\n",
    "    \n",
    "        datetime.strptime(fecha, \"%d/%m/%Y\").date()\n",
    "        \n",
    "    También hay que realizar un pequeño procesamiento con los goles. Hay que\n",
    "    pasar del formato cadena (que es lo que se interpreta al leer el csv) a un\n",
    "    valor numérico (para poder aplicar operaciones matemáticas si fuese \n",
    "    necesario).\n",
    "    '''\n",
    "    pass"
   ]
  },
  {
   "cell_type": "code",
   "execution_count": null,
   "metadata": {},
   "outputs": [],
   "source": [
    "# Test de la función lee_temporada\n",
    "primera_15_16 = lee_temporada('./data/Primera/15-16.csv')\n",
    "print(primera_15_16[:5])"
   ]
  },
  {
   "cell_type": "markdown",
   "metadata": {},
   "source": [
    "Apoyándonos en la función <code>lee_temporada</code> implementaremos la función <code>lee_competicion</code> que lee todos los ficheros <code>CSV</code> que encuentre en la carpeta que recibe como parámetro:"
   ]
  },
  {
   "cell_type": "code",
   "execution_count": null,
   "metadata": {
    "collapsed": true
   },
   "outputs": [],
   "source": [
    "def lee_competicion(carpeta):\n",
    "    ''' Lee todas las temporadas y devuelve una lista de partidos\n",
    "    \n",
    "    ENTRADA: \n",
    "       - carpeta: ruta de la carpeta en la que se encuentran los ficheros -> str\n",
    "    SALIDA: \n",
    "       - lista de partidos -> [Partido(datetime.date, str, int, str, int)] \n",
    "    \n",
    "    Toma como entrada la ruta de una carpeta en la que hay varios\n",
    "    ficheros correspondientes a distintas temporadas de una misma\n",
    "    competición.\n",
    "    Devuelve como salida la lista de partidos resultante tras unir\n",
    "    las listas que construye la función lee_temporada() a partir\n",
    "    de cada fichero de la carpeta.\n",
    "    '''\n",
    "    pass"
   ]
  },
  {
   "cell_type": "code",
   "execution_count": null,
   "metadata": {},
   "outputs": [],
   "source": [
    "# Test de la función lee_competición\n",
    "primera = lee_competicion('./data/Primera/')\n",
    "segunda = lee_competicion('./data/Segunda/')\n",
    "partidos = primera + segunda\n",
    "print(len(partidos))\n",
    "print(len(primera), primera[:5])\n",
    "print(len(segunda), segunda[:5])"
   ]
  },
  {
   "cell_type": "markdown",
   "metadata": {},
   "source": [
    "### 1.2. Funciones de consulta"
   ]
  },
  {
   "cell_type": "markdown",
   "metadata": {},
   "source": [
    "En esta sección veremos una serie de funciones que nos permitirán filtrar y extraer informaciones de la estructura de datos que estamos manejando para representar los partidos (una lista de tuplas). Utilizaremos estas funciones de _consulta_ en distintos puntos del resto del ejercicio.\n",
    "\n",
    "La primera función de este tipo es <code>equipos_participantes</code>. Producirá un conjunto con los nombres de los equipos que han aparecido al menos una vez en una lista de partidos:"
   ]
  },
  {
   "cell_type": "code",
   "execution_count": null,
   "metadata": {
    "collapsed": true
   },
   "outputs": [],
   "source": [
    "def equipos_participantes(partidos):\n",
    "    ''' Equipos participantes en una lista de partidos\n",
    "    \n",
    "    ENTRADA: \n",
    "       - partidos: lista de partidos -> [Partido(datetime.date, str, int, str, int)]\n",
    "    SALIDA: \n",
    "       - conjunto de equipos -> {str} \n",
    "    \n",
    "    Calcula una lista con los nombres de los equipos que han aparecido\n",
    "    al menos una vez en la lista de partidos que recibe como entrada. \n",
    "    '''\n",
    "    pass"
   ]
  },
  {
   "cell_type": "code",
   "execution_count": null,
   "metadata": {},
   "outputs": [],
   "source": [
    "# Test de la función equipos_participantes\n",
    "equipos_primera = equipos_participantes(primera)\n",
    "print(len(equipos_primera), equipos_primera)\n",
    "equipos_segunda = equipos_participantes(segunda)\n",
    "print(len(equipos_segunda), equipos_segunda)"
   ]
  },
  {
   "cell_type": "markdown",
   "metadata": {},
   "source": [
    "Las otras dos funciones de apoyo van a ser de _filtrado_. Con ellas seleccionaremos un subconjunto de la colección de partidos en base a ciertas condiciones, como la fecha en la que se jugaron o los equipos que participaron:"
   ]
  },
  {
   "cell_type": "code",
   "execution_count": null,
   "metadata": {
    "collapsed": true
   },
   "outputs": [],
   "source": [
    "def partidos_por_fecha(partidos, inicio=None, fin=None):\n",
    "    ''' Filtra los partidos jugados en un rango de fechas\n",
    "    \n",
    "    ENTRADA: \n",
    "       - partidos: lista de partidos -> [Partido(datetime.date, str, int, str, int)]\n",
    "       - inicio: fecha inicial del rango -> datetime.date\n",
    "       - fin: fecha final del rango -> datetime.date\n",
    "    SALIDA: \n",
    "       - lista de partidos seleccionados -> [Partido(datetime.date, str, int, str, int)] \n",
    "    \n",
    "    Se devuelven aquellos partidos que se han jugado entre las fechas inicio\n",
    "    y fin. Ambos parámetros serán objetos date del módulo datetime.\n",
    "    Si inicio es None, se incluirán los partidos desde el principio de\n",
    "    la serie, y si fin es None se inlcuirán los partidos hasta el último de\n",
    "    la serie.\n",
    "    '''\n",
    "    pass"
   ]
  },
  {
   "cell_type": "code",
   "execution_count": null,
   "metadata": {},
   "outputs": [],
   "source": [
    "# Test de la función partidos_por_fecha\n",
    "inicio = datetime(2007, 9, 15).date()\n",
    "fin = datetime(2008, 7, 1).date()\n",
    "print(len(partidos_por_fecha(partidos, inicio, fin)))\n",
    "print(len(partidos_por_fecha(partidos, inicio, None)))\n",
    "print(len(partidos_por_fecha(partidos, None, fin)))\n",
    "print(len(partidos_por_fecha(partidos, None, None)))"
   ]
  },
  {
   "cell_type": "code",
   "execution_count": null,
   "metadata": {
    "collapsed": true
   },
   "outputs": [],
   "source": [
    "def partidos_por_equipos(partidos, equipos):\n",
    "    ''' Filtra los partidos jugados por un conjunto de equipos\n",
    "    \n",
    "    ENTRADA: \n",
    "       - partidos: lista de partidos -> [Partido(datetime.date, str, int, str, int)]\n",
    "       - equipos: equipos de los que se requieren los partidos -> [str]\n",
    "    SALIDA: \n",
    "       - lista de partidos seleccionados -> [Partido(datetime.date, str, int, str, int)] \n",
    "    \n",
    "    Se devuelven aquellos partidos que se han jugado por alguno de los\n",
    "    equipos incluidos en la lista que se recibe como segundo parámetro.\n",
    "    '''\n",
    "    pass"
   ]
  },
  {
   "cell_type": "code",
   "execution_count": null,
   "metadata": {},
   "outputs": [],
   "source": [
    "# Test de la función partidos_por_equipos\n",
    "de_madrid = ['Real Madrid', 'Rayo Vallecano', 'Atlético de Madrid', 'Getafe CF', 'CD Leganés']\n",
    "partidos_de_madrid = partidos_por_equipos(partidos, de_madrid)\n",
    "print(len(partidos_de_madrid), partidos_de_madrid[:5])"
   ]
  },
  {
   "cell_type": "markdown",
   "metadata": {
    "collapsed": true
   },
   "source": [
    "## 2. Cálculo del ranking Elo"
   ]
  },
  {
   "cell_type": "markdown",
   "metadata": {},
   "source": [
    "La puntuación Elo de un jugador se calcula a partir de los resultados de sus enfrentamientos con otros jugadores. La idea básica es que la diferencia de puntuación de los contrincantes da, a priori, distintas probabilidades de victoria a cada uno de ellos. Es lo que se denomina puntuación esperada. Por ejemplo, dadas las puntuaciones Elo $R_A$ y $R_B$ de dos jugadores $A$ y $B$, las puntuaciones esperadas $E_A$ y $E_B$ ante un enfrentamiento entre ellos, se calculan con la siguiente fórmula:\n",
    "\n",
    "$$\n",
    "E_A = \\frac{1}{1+10^{(R_B-R_A)/400}}   \\qquad\\qquad  E_B = \\frac{1}{1+10^{(R_A-R_B)/400}}\n",
    "$$\n",
    "\n",
    "$E_A$ y $E_B$ son probabilidades y, por tanto, valores entre $0$ y $1$. Además, se cumple que  $E_A+E_B=1$. \n",
    "\n",
    "La puntuación Elo se incrementa, o disminuye, tras un enfrentamiento según si el resultado es mejor o peor de lo que era previsible en función de las puntuaciones esperadas de los contrincantes. Se aplica un ajuste lineal simple, proporcional a la diferencia entre la puntuación esperada y la obtenida por un contrincante. Para poder comparar las puntuaciones esperadas $E_A$ y $E_B$, y los resultados reales $S_A$ y $S_B$, estos últimos se codifican así:\n",
    "- $1$ en caso de victoria\n",
    "- $0$ en caso de derrota\n",
    "- $0.5$ en caso de empate\n",
    "\n",
    "Dadas las puntuaciones esperadas $E_A$ y $E_B$, y los resultados $S_A$ y $S_B$, los nuevos valores de puntuación Elo para ambos contrincantes se calculan de la siguiente forma:\n",
    "\n",
    "$$\n",
    "R'_A = R_A + (S_A - E_A) * k  \\qquad\\qquad  R'_B = R_B + (S_B - E_B) * k\n",
    "$$\n",
    "\n",
    "Donde $k$ es un parámetro que regula la estabilidad del ranking y su velocidad de convergencia. En ajedrez, por ejemplo, se usa $k=16$ para maestros y $k=32$ para jugadores de nivel menor, dando así mayor velocidad a la competición entre aficionados que al ranking de los maestros."
   ]
  },
  {
   "cell_type": "markdown",
   "metadata": {},
   "source": [
    "### 2.1. Cáculo de puntuación tras un enfrentamiento"
   ]
  },
  {
   "cell_type": "markdown",
   "metadata": {},
   "source": [
    "Esta es la función central del cálculo de la puntuación Elo. Su implementación es bastante simple, solo tendremos que _traducir_ la explicación anterior desde un lenguaje matemático a Python:"
   ]
  },
  {
   "cell_type": "code",
   "execution_count": null,
   "metadata": {
    "collapsed": true
   },
   "outputs": [],
   "source": [
    "def calcula_elo(elo_a, elo_b, goles_a, goles_b, k=20):\n",
    "    ''' Cálculo de los nuevos valores elo tras un partido\n",
    "    \n",
    "    ENTRADA: \n",
    "       - elo_a: puntos Elo del equipo A antes del partido -> float\n",
    "       - elo_b: puntos Elo del equipo B antes del partido -> float\n",
    "       - goles_a: goles del equipo A en el partido -> int\n",
    "       - goles_b: goles del equipo B en el partido -> int\n",
    "       - k: parámetro para regular la velocidad de cambio en el ranking -> float\n",
    "    SALIDA: \n",
    "       - nueva puntuación Elo del equipo A -> float\n",
    "       - nueva puntuación Elo del equipo B -> float\n",
    "    \n",
    "    Dados dos participantes A y B, con puntuación ELOA y ELOB, respectivamente,\n",
    "    las probabilidades de que cada uno de ellos gane el enfrentamiento se\n",
    "    calculan así:\n",
    "        EA = 1/(1+pow(10,(ELOB-ELOA)/400))\n",
    "        EB = 1/(1+pow(10,(ELOA-ELOB)/400))\n",
    "    A partir de EA y EB, se calculan los nuevos valores de ELOA y ELOB de la\n",
    "    siguiente forma:\n",
    "        ELOA' = ELOA + (RA - EA) * k\n",
    "        ELOB' = ELOB + (RB - EB) * k\n",
    "    Donde k es un parámetro que regula la estabilidad del ranking y su\n",
    "    velocidad de convergencia (usaremos k=20 por defecto) y RA y RB es el \n",
    "    resultado de cada partido (1=victoria, 0.5=empate, 0=derrota).\n",
    "    '''\n",
    "    pass"
   ]
  },
  {
   "cell_type": "code",
   "execution_count": null,
   "metadata": {},
   "outputs": [],
   "source": [
    "# Test de la función calcula_elo\n",
    "print(calcula_elo(1000, 1000, 3, 3)) # Equipos parejos, empatan\n",
    "print(calcula_elo(1000, 1000, 3, 0)) # Equipos parejos, gana uno\n",
    "print(calcula_elo(2000, 1000, 3, 0)) # Equipos no parejos, gana el mejor \n",
    "print(calcula_elo(2000, 1000, 3, 3)) # Equipos no parejos, empatan \n",
    "print(calcula_elo(2000, 1000, 0, 3)) # Equipos no parejos, gana el peor "
   ]
  },
  {
   "cell_type": "markdown",
   "metadata": {},
   "source": [
    "### 2.3. Cálculo y listado de rankings"
   ]
  },
  {
   "cell_type": "markdown",
   "metadata": {},
   "source": [
    "En esta sección implementaremos dos funciones que nos permitirán calcular un ranking Elo a partir de una secuencia de partidos, y también mostrar dicho ranking ordenado.\n",
    "\n",
    "Desde el punto de vista del diseño de datos, este es el momento en el que tendremos que decidir cómo modelar (organizar información) el concepto de ranking. Lo haremos mediante un diccionario, que nos permitirá asociar a cada competidor su puntuación Elo en cada momento."
   ]
  },
  {
   "cell_type": "code",
   "execution_count": null,
   "metadata": {
    "collapsed": true
   },
   "outputs": [],
   "source": [
    "def muestra_ranking(ranking, limite=None):\n",
    "    ''' Muestra un ranking ordenado de mayor a menor\n",
    "    \n",
    "    ENTRADA: \n",
    "       - ranking: puntuación Elo para cada equipo -> {str: float}\n",
    "       - limite: número máximo de equipos a mostrar\n",
    "    SALIDA EN PANTALLA:\n",
    "       - listado ordenado de los equipos y su puntuación Elo\n",
    "       \n",
    "    Toma como entrada un ranking (diccionario {equipo,puntos}) y calcula\n",
    "    a partir de él una lista de tuplas (puntos, equipo) ordenada de mayor\n",
    "    a menor por puntuación.\n",
    "    El parámetro limite establece el numero de elementos del ranking ordenado\n",
    "    que se mostrará como salida. Si limite es None, se mostrará el ranking\n",
    "    completo.\n",
    "    El listado de salida debe incluir para cada equipo su posición en el\n",
    "    ranking, su nombre y su puntuación Elo. Se puede usar el método format\n",
    "    de las cadenas de caracteres de Python para dar un buen formato a este\n",
    "    listado. Hay una buena explicación sobre la notación usada por el\n",
    "    método format en:\n",
    "        https://pyformat.info/\n",
    "    '''\n",
    "    pass"
   ]
  },
  {
   "cell_type": "code",
   "execution_count": null,
   "metadata": {},
   "outputs": [],
   "source": [
    "# Test de la función muestra_ranking\n",
    "ranking =  {'CD San Roque': 1489, 'Real Balompédica Linense': 1912, \n",
    "            'UD Los Barrios': 1636, 'Algeciras CF': 1750}\n",
    "muestra_ranking(ranking)"
   ]
  },
  {
   "cell_type": "code",
   "execution_count": null,
   "metadata": {
    "collapsed": true
   },
   "outputs": [],
   "source": [
    "def calcula_ranking_elo(partidos, ranking_previo=dict()):\n",
    "    ''' Ranking Elo de todos los equipos tras una secuencia de partidos\n",
    "    \n",
    "    ENTRADA: \n",
    "       - partidos: lista de partidos -> [Partido(datetime.date, str, int, str, int)]\n",
    "       - ranking_previo: puntuación Elo inicial para los equipos -> {str: float}\n",
    "    SALIDA: \n",
    "       - ranking actualizado tras los partidos -> {str: float} \n",
    "    \n",
    "    El resultado del ranking será un diccionario en el que las claves serán\n",
    "    los equipos y los valores serán las puntuaciones de los equipos.\n",
    "    \n",
    "    De inicio se asigna a todos los equipos la misma puntuación Elo. Este\n",
    "    valor inicial puede ser cualquiera. En ajedrez, por ejemplo, se suele\n",
    "    utilizar el valor 1500 para aquellos jugadores de los que no se tiene\n",
    "    aún ninguna información. Nostros usaremos el valor 1000. Además, cabe\n",
    "    la posibilidad de recibir como parámetro un ranking previo. En ese caso\n",
    "    las entradas de ese diccionario prevalecerán sobre el valor inicial\n",
    "    por defecto. \n",
    "    \n",
    "    Los partidos deben procesarse en orden cronológico. Para ello, antes\n",
    "    de empezar, deberá ordenarse la lista de partidos por este criterio.\n",
    "    '''\n",
    "    pass"
   ]
  },
  {
   "cell_type": "code",
   "execution_count": null,
   "metadata": {},
   "outputs": [],
   "source": [
    "# Test de la función calcula_ranking_elo\n",
    "elo = calcula_ranking_elo(primera)\n",
    "muestra_ranking(elo, limite=10)\n",
    "print()\n",
    "elo = calcula_ranking_elo(primera, ranking_previo={'Cádiz CF':2000})\n",
    "muestra_ranking(elo, limite=10)"
   ]
  },
  {
   "cell_type": "markdown",
   "metadata": {},
   "source": [
    "## 3. Cálculo del rendimiento en una competición"
   ]
  },
  {
   "cell_type": "markdown",
   "metadata": {},
   "source": [
    "El rendimiento es una puntuación hipotética que se calcula a partir de los resultados obtenidos en una competición. Por ejemplo, sirve para determinar como se ha comportado un jugador durante un torneo, independientemente del efecto que haya supuesto en su puntuación en el ranking Elo global.\n",
    "\n",
    "Hay varias formas de calcular el rendimiento a partir de un conjunto de enfrentamientos. Una de las más usadas es la que se conoce como _la regla del 400_. Según esta regla, el rendimiento de un jugador se calcula de la siguiente forma:\n",
    "- Sumar la puntuación Elo de todos los contrincantes con los que se ha enfrentado\n",
    "- Restar 400 por cada partido perdido\n",
    "- Sumar 400 por cada partido ganado\n",
    "- Dividir por el número total de partidos"
   ]
  },
  {
   "cell_type": "code",
   "execution_count": null,
   "metadata": {
    "collapsed": true
   },
   "outputs": [],
   "source": [
    "def calcula_rendimiento(equipo, partidos, ranking_elo):\n",
    "    ''' Cálculo del rendimiento de un equipo en un conjunto de partidos\n",
    "    \n",
    "    ENTRADA:\n",
    "       - equipo: equipo del que se quiere calcular el rendimiento -> str\n",
    "       - partidos: lista de partidos de la competición -> [Partido(datetime.date, str, int, str, int)]\n",
    "       - ranking_elo: puntuación Elo para los equipos -> {str: float}\n",
    "    SALIDA: \n",
    "       - rendimiento calculado para el equipo -> float \n",
    "    \n",
    "    Toma como entrada un equipo, una lista de partidos y un ranking Elo. \n",
    "    Calcula como salida el rendimiento del equipo en función de los partidos\n",
    "    de la lista en los que ha participado. Se usa para ello la siguiente\n",
    "    fórmula:\n",
    "    \n",
    "               suma Elo de competidores + victorias*400 - derrotas*400\n",
    "       rend = ---------------------------------------------------------\n",
    "                             número de partidos\n",
    "    \n",
    "    Una buena forma de enfocar la implementación es calcular, a partir de la\n",
    "    lista de partidos, una lista tuplas (contrincante, diferencia de goles).\n",
    "    Solo con el signo de la diferencia se puede determinar si para ese\n",
    "    contrincante hay que añadir 400, -400 ó 0 al acumular su puntuación Elo.\n",
    "    Según el enfoque, puede venir bien usar una función que calcule el signo\n",
    "    de un número entero. Pero en Python no está disponible, ¿cuál es el 'idiom'\n",
    "    Python para calcular el signo de un número? \n",
    "    '''\n",
    "    pass"
   ]
  },
  {
   "cell_type": "code",
   "execution_count": null,
   "metadata": {},
   "outputs": [],
   "source": [
    "# Test de la función calcula_rendimiento\n",
    "inicio_14 = datetime(2014, 8, 15).date()\n",
    "fin_16 = datetime(2016, 7, 1).date()\n",
    "partidos_hasta_14 = partidos_por_fecha(partidos, inicio=None, fin=inicio_14)\n",
    "ranking_hasta_14 = calcula_ranking_elo(partidos_hasta_14)\n",
    "primera_14_16 = partidos_por_fecha(partidos, inicio=inicio_14, fin=None)\n",
    "print(calcula_rendimiento('Real Madrid', primera_14_16, ranking_hasta_14))"
   ]
  },
  {
   "cell_type": "markdown",
   "metadata": {},
   "source": [
    "Como último ejercicio de este notebook, nos apoyaremos en la función <code>calcula_rendimiento</code> para calcular un ranking de rendimiento. Para ello, implementaremos la función <code>calcula_rankig_rendimiento</code> que toma como entrada una lista de equipos, una lista de partidos sobre la que se calculará el rendimiento de los equipos y un ranking Elo que proporcionará la base de puntuación necesaria para calcular el rendimiento de cada equipo."
   ]
  },
  {
   "cell_type": "code",
   "execution_count": null,
   "metadata": {
    "collapsed": true
   },
   "outputs": [],
   "source": [
    "def calcula_ranking_rendimiento(equipos, partidos, ranking_elo):\n",
    "    ''' Cálculo del ranking de rendimiento de un conjunto de equipos\n",
    "    \n",
    "    ENTRADA:\n",
    "       - equipos: equipos de los que se quiere calcular el rendimiento -> [str]\n",
    "       - partidos: lista de partidos de la competición -> [Partido(datetime.date, str, int, str, int)]\n",
    "       - ranking_elo: puntuación Elo inicial para los equipos -> {str: float}\n",
    "    SALIDA: \n",
    "       - ranking actualizado tras los partidos -> {str: float} \n",
    "    \n",
    "    Toma como entrada una lista de equipos, una lista de partidos en\n",
    "    los que pueden haber participado esos equipos y un ranking_elo.\n",
    "    Produce como salida un ranking en el que a cada equipo de la\n",
    "    lista equipos se le asocia su rendimiento en función de los\n",
    "    partidos en los que ha participado.\n",
    "    '''\n",
    "    pass"
   ]
  },
  {
   "cell_type": "code",
   "execution_count": null,
   "metadata": {},
   "outputs": [],
   "source": [
    "# Test de la función calcula_ranking_rendimiento\n",
    "andaluces = ['Málaga CF', 'Real Betis', 'Sevilla FC', 'RC Recreativo', \n",
    "            'Cádiz CF', 'Xerez CD', 'Granada CF', 'Córdoba CF']\n",
    "rendimiento = calcula_ranking_rendimiento(andaluces, primera_14_16, ranking_hasta_14)\n",
    "muestra_ranking(rendimiento)"
   ]
  }
 ],
 "metadata": {
  "kernelspec": {
   "display_name": "Python 3",
   "language": "python",
   "name": "python3"
  },
  "language_info": {
   "codemirror_mode": {
    "name": "ipython",
    "version": 3
   },
   "file_extension": ".py",
   "mimetype": "text/x-python",
   "name": "python",
   "nbconvert_exporter": "python",
   "pygments_lexer": "ipython3",
   "version": "3.7.0"
  }
 },
 "nbformat": 4,
 "nbformat_minor": 2
}
